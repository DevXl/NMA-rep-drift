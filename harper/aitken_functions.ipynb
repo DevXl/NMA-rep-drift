{
 "cells": [
  {
   "cell_type": "code",
   "execution_count": 26,
   "id": "9f4b306a-6b46-4cec-9c23-f6febf14f04f",
   "metadata": {},
   "outputs": [],
   "source": [
    "import numpy as np\n",
    "import pandas as pd\n",
    "import matplotlib.pyplot as plt\n",
    "import allensdk\n",
    "import pickle\n",
    "import pprint\n",
    "from sklearn.decomposition import PCA"
   ]
  },
  {
   "cell_type": "code",
   "execution_count": 27,
   "id": "cc27d32d-5199-43a1-a03f-c67cf3cf1c18",
   "metadata": {},
   "outputs": [],
   "source": [
    "from allensdk.core.brain_observatory_cache import BrainObservatoryCache\n",
    "import allensdk.brain_observatory.stimulus_info as stim_info"
   ]
  },
  {
   "cell_type": "code",
   "execution_count": 4,
   "id": "93d6ef2b-3492-4733-a5fd-634bffe9c525",
   "metadata": {
    "tags": []
   },
   "outputs": [
    {
     "name": "stdout",
     "output_type": "stream",
     "text": [
      "all targeted structures: ['VISal', 'VISam', 'VISl', 'VISp', 'VISpm', 'VISrl']\n",
      "all stimuli: \n",
      "\n",
      "['drifting_gratings',\n",
      " 'locally_sparse_noise',\n",
      " 'locally_sparse_noise_4deg',\n",
      " 'locally_sparse_noise_8deg',\n",
      " 'natural_movie_one',\n",
      " 'natural_movie_three',\n",
      " 'natural_movie_two',\n",
      " 'natural_scenes',\n",
      " 'spontaneous',\n",
      " 'static_gratings']\n"
     ]
    }
   ],
   "source": [
    "boc = BrainObservatoryCache()\n",
    "\n",
    "targeted_structures = boc.get_all_targeted_structures()\n",
    "print(\"all targeted structures: \" + str(targeted_structures))\n",
    "\n",
    "stims = boc.get_all_stimuli()\n",
    "print(\"all stimuli: \\n\")\n",
    "pprint.pprint(stims)\n",
    "cre_lines = boc.get_all_cre_lines()"
   ]
  },
  {
   "cell_type": "markdown",
   "id": "45d9f7ee-1bce-43ed-a746-648445e22238",
   "metadata": {},
   "source": [
    "## Data Selection\n",
    "\n",
    "Deitch et al: \n",
    "analyzed all available excitatory Cre-lines, including all layers and brain areas.\n",
    "Experiment containers group recordings from three different imaging sessions of the same field of view.\n",
    "Each such container is considered an individual mouse.\n",
    "Include only mice that passed a fixed criterion of at least 20 recorded cells in the compared time points.\n",
    "\n",
    "\n",
    "Aitken:\n",
    "solely concerned with respones to Natural Movie 1. \\n\n",
    "ONly from transgenic cre lines where excitatory neurons were targeted (Refer to table 1)\n",
    "Omitted mouse data that had < 10 shared cells among the three sessions as well as data where two sessions were taken on the same day (3 mice). Total results in 73 mice.\n"
   ]
  },
  {
   "cell_type": "markdown",
   "id": "53f1c1e2-14f6-4740-a053-b1dbd7399d36",
   "metadata": {},
   "source": [
    "<img src=\"data_structure.png\" alt=\"drawing\" width=\"800\"/>"
   ]
  },
  {
   "cell_type": "code",
   "execution_count": 5,
   "id": "108732aa-4106-44db-af81-9b9d39bf2a10",
   "metadata": {
    "tags": []
   },
   "outputs": [
    {
     "name": "stdout",
     "output_type": "stream",
     "text": [
      "Cre Line: Emx1-IRES-Cre\n",
      " Experiment containers: 10\n",
      "Cre Line: Fezf2-CreER\n",
      " Experiment containers: 4\n",
      "Cre Line: Nr5a1-Cre\n",
      " Experiment containers: 8\n",
      "Cre Line: Ntsr1-Cre_GN220\n",
      " Experiment containers: 6\n",
      "Cre Line: Rbp4-Cre_KL100\n",
      " Experiment containers: 7\n",
      "Cre Line: Rorb-IRES2-Cre\n",
      " Experiment containers: 8\n",
      "Cre Line: Scnn1a-Tg3-Cre\n",
      " Experiment containers: 9\n",
      "Cre Line: Slc17a7-IRES2-Cre\n",
      " Experiment containers: 60\n",
      "Cre Line: Tlx3-Cre_PL56\n",
      " Experiment containers: 6\n",
      "\n",
      "Total experiment containers: 118\n"
     ]
    }
   ],
   "source": [
    "# Get experiment containers for excitatory cre-lines only\n",
    "\n",
    "cre_lines = [ \n",
    "    'Emx1-IRES-Cre',\n",
    "    'Fezf2-CreER',\n",
    "    'Nr5a1-Cre',\n",
    "    'Ntsr1-Cre_GN220',\n",
    "    'Rbp4-Cre_KL100',\n",
    "    'Rorb-IRES2-Cre',\n",
    "    'Scnn1a-Tg3-Cre',\n",
    "    'Slc17a7-IRES2-Cre',\n",
    "    'Tlx3-Cre_PL56',\n",
    "    ]\n",
    "\n",
    "ecs = []\n",
    "cre_lines_ecs = []\n",
    "\n",
    "for cre_line in cre_lines:\n",
    "    \n",
    "    print(\"Cre Line:\", cre_line)\n",
    "    ecs_cre = boc.get_experiment_containers(cre_lines = [cre_line,], targeted_structures=['VISp'])\n",
    "    print(\" Experiment containers:\", len(ecs_cre))\n",
    "    ecs.extend(ecs_cre)\n",
    "    cre_lines_ecs.extend([cre_line for _ in range(len(ecs_cre))])\n",
    "    \n",
    "print('\\nTotal experiment containers:', len(ecs))"
   ]
  },
  {
   "cell_type": "code",
   "execution_count": 6,
   "id": "65086a2b-e280-4567-b445-0e08ca94c546",
   "metadata": {},
   "outputs": [],
   "source": [
    "def collect_experiments(ecs, stimulus = ['natural_movie_one'], min_exp_per_container = 3):\n",
    "    '''\n",
    "    Args: stimulus, ecs, min_exp_per_container\n",
    "    Returns: exps\n",
    "    '''\n",
    "    \n",
    "    n_containers = len(ecs) \n",
    "\n",
    "    exps = []\n",
    "    cre_lines_experiments = []\n",
    "\n",
    "    for container_idx in range(n_containers):\n",
    "        ec_id = ecs[container_idx]['id']\n",
    "\n",
    "        #Find experiments with natural movie one stimulus within our container\n",
    "        exps_container = boc.get_ophys_experiments(experiment_container_ids=[ec_id], \n",
    "                                                   stimuli = stimulus, require_eye_tracking=True)\n",
    "        # Require that the number of experiments associated with stimulus in a given container is only 3\n",
    "        if len(exps_container) != min_exp_per_container:\n",
    "            continue\n",
    "\n",
    "        exps.extend(exps_container)\n",
    "        cre_lines_experiments.extend([cre_lines_ecs[container_idx] for _ in range(3)])\n",
    "\n",
    "    print('Total number of experiments:', len(exps))\n",
    "    n_containers = int(len(exps)//3.0)\n",
    "\n",
    "    print('Setting number of containers:', n_containers)\n",
    "    \n",
    "    return exps"
   ]
  },
  {
   "cell_type": "code",
   "execution_count": 7,
   "id": "2a4b2a0c-0b93-4c99-9b2e-7116082cab87",
   "metadata": {
    "tags": []
   },
   "outputs": [],
   "source": [
    "def get_dff_vals_dataset(data_set, stimulus = 'natural_movie_one', n_frames = 900, n_repeats = 10, n_divs = 30):\n",
    "    '''\n",
    "    Args\n",
    "    ------------\n",
    "    data_set: BrainObservatoryNwbDataSet type obtained by using get_ophys_experiment_dataset.\n",
    "    stimulus: (string) stimulus associated with data_set\n",
    "    \n",
    "    Returns\n",
    "    ------------\n",
    "    dff vals: a set of dff traces\n",
    "    cell_ids: \n",
    "    '''\n",
    "    \n",
    "    if n_frames % n_divs > 0:\n",
    "        raise ValueError('Frame number not divisible by division number')\n",
    "    frames_per_repeat = int(n_frames/n_divs)\n",
    "    \n",
    "    time, dff_traces = data_set.get_dff_traces()\n",
    "    cell_ids = data_set.get_cell_specimen_ids()\n",
    "    stim_table = data_set.get_stimulus_table(stimulus)\n",
    "    \n",
    "    n_cells = len(cell_ids)\n",
    "\n",
    "    frame_idxs = np.zeros((n_repeats, n_divs, int(n_frames/n_divs)))\n",
    "    dff_vals = np.zeros((n_repeats, n_divs, n_cells))\n",
    "    \n",
    "    for repeat_idx in range(n_repeats):\n",
    "        repeat_frames = np.array(stim_table.query('repeat == @repeat_idx')['start'])\n",
    "        for div_idx in range(n_divs):\n",
    "            div_repeat_idxs = repeat_frames[\n",
    "                div_idx*frames_per_repeat:(div_idx+1)*frames_per_repeat\n",
    "            ]\n",
    "            \n",
    "            frame_idxs[repeat_idx, div_idx] = div_repeat_idxs\n",
    "            dff_vals[repeat_idx, div_idx] = np.mean(dff_traces[:, div_repeat_idxs], axis=1)\n",
    "    return dff_vals, cell_ids\n",
    "\n",
    "\n",
    "# function to plot running speed\n",
    "def plot_running(ax):\n",
    "    run_speed, run_times = dataset.get_running_speed()\n",
    "    ax.plot(\n",
    "        run_times,\n",
    "        run_speed/run_speed.max(),\n",
    "        '--',\n",
    "        color = 'gray',\n",
    "        linewidth = 1\n",
    "    )\n",
    "    "
   ]
  },
  {
   "cell_type": "code",
   "execution_count": 9,
   "id": "faeeb4f5-3de7-488f-ba85-9007e9a21445",
   "metadata": {},
   "outputs": [
    {
     "name": "stdout",
     "output_type": "stream",
     "text": [
      "Total number of experiments: 144\n",
      "Setting number of containers: 48\n"
     ]
    }
   ],
   "source": [
    "exps = collect_experiments(ecs)"
   ]
  },
  {
   "cell_type": "code",
   "execution_count": 22,
   "id": "d46d209b-de7e-4f8b-a9e1-888290ec3be7",
   "metadata": {},
   "outputs": [
    {
     "name": "stdout",
     "output_type": "stream",
     "text": [
      "616886391\n",
      "616886391\n",
      "616886391\n"
     ]
    }
   ],
   "source": [
    "container_idx = 5\n",
    "exp_idxs = []\n",
    "for i in range(container_idx*3,(container_idx+1)*3):\n",
    "    print(exps[i]['experiment_container_id'])\n",
    "    exp_idxs.append(i)"
   ]
  },
  {
   "cell_type": "code",
   "execution_count": 23,
   "id": "0427d6b9-226a-41de-a20b-1d7e37db34d5",
   "metadata": {},
   "outputs": [
    {
     "name": "stdout",
     "output_type": "stream",
     "text": [
      "636930038\n"
     ]
    },
    {
     "name": "stderr",
     "output_type": "stream",
     "text": [
      "2022-07-22 10:32:29,216 allensdk.api.api.retrieve_file_over_http INFO     Downloading URL: http://api.brain-map.org/api/v2/well_known_file_download/636960079\n"
     ]
    },
    {
     "name": "stdout",
     "output_type": "stream",
     "text": [
      "623347352\n"
     ]
    },
    {
     "name": "stderr",
     "output_type": "stream",
     "text": [
      "2022-07-22 10:39:57,723 allensdk.api.api.retrieve_file_over_http INFO     Downloading URL: http://api.brain-map.org/api/v2/well_known_file_download/623449687\n",
      "2022-07-22 10:48:31,086 allensdk.api.api.retrieve_file_over_http INFO     Downloading URL: http://api.brain-map.org/api/v2/well_known_file_download/617965921\n"
     ]
    },
    {
     "name": "stdout",
     "output_type": "stream",
     "text": [
      "617429820\n"
     ]
    }
   ],
   "source": [
    "dff_containers_all = []\n",
    "cell_ids_all = []\n",
    "\n",
    "for i in exp_idxs:\n",
    "    print(exps[i]['id'])\n",
    "    try:\n",
    "        dataset = boc.get_ophys_experiment_data(exps[i]['id'])\n",
    "        dff_, cell_id_ = get_dff_vals_dataset(dataset)\n",
    "        dff_containers_all.append(dff_)\n",
    "        cell_ids_all.append(cell_id_)\n",
    "    except OSError as err:\n",
    "        print(\"OS error: {}\".format(err))\n",
    "        dff_containers_all.append(np.nan)\n",
    "        cell_ids_all.append(np.nan)"
   ]
  },
  {
   "cell_type": "markdown",
   "id": "671b215c-0d39-4df3-b94b-134579257179",
   "metadata": {
    "tags": []
   },
   "source": [
    "### Single Session Correlation Matrix"
   ]
  },
  {
   "cell_type": "code",
   "execution_count": 83,
   "id": "48612a94-dfb8-47e6-88b6-6646bce18c6c",
   "metadata": {},
   "outputs": [],
   "source": [
    "def alignment_angle(x, y):\n",
    "        dot = np.arccos(np.dot(x,y)/(np.linalg.norm(x) * np.linalg.norm(y)))\n",
    "        if dot > 1.0:\n",
    "            dot = 1.0\n",
    "        elif dot < -1.0:\n",
    "            dot = -1.0\n",
    "        return 180/np.pi + dot\n",
    "\n",
    "def correlation_single_session(dataset, n_divs = 30, n_repeats = 10):\n",
    "    '''\n",
    "    Args\n",
    "    ------\n",
    "    dataset: NWB dataset file for single experiment\n",
    "    n_divs: number of stimulus divisions (default 30)\n",
    "    n_repeats: number of repeats (default 10)\n",
    "    \n",
    "    Returns\n",
    "    ------\n",
    "    Tuple (session_corrs, sesion_angles)\n",
    "    session_corrs: np.array of shape (n_repeats * n_divs, n_repeats * n_divs) of within session Pearson correlation coefficients.\n",
    "    session_angles: np.array of shape (\n",
    "    '''\n",
    "    \n",
    "    \n",
    "    dff_vals, cell_ids = get_dff_vals_dataset(dataset)\n",
    "    n_cells = cell_ids.shape\n",
    "    \n",
    "    shape = (n_repeats*n_divs, n_repeats*n_divs)\n",
    "    session_corrs = np.zeros(shape)\n",
    "    session_angles = np.zeros(shape)\n",
    "    \n",
    "    # Getting the correlation of repeat_i with repeat_j\n",
    "    for repeat_i in range(n_repeats):\n",
    "        for repeat_j in range(n_repeats):\n",
    "            \n",
    "            # Calculate the pearson coeff between dff repeats (for the entire movie)\n",
    "            corr = np.corrcoef(dff_vals[repeat_i], dff_vals[repeat_j])[n_divs:, :n_divs] # gets the thirtieth \n",
    "            \n",
    "            session_corrs[\n",
    "                repeat_i * n_divs : (repeat_i + 1)*n_divs,\n",
    "                repeat_j * n_divs : (repeat_j + 1)*n_divs] = corr\n",
    "            \n",
    "            for div_i in range(n_divs):\n",
    "                for div_j in range(n_divs):\n",
    "                    # for each second in the movie, calculate the alignment angle\n",
    "                    angle = alignment_angle(dff_vals[repeat_i, div_i], dff_vals[repeat_j, div_j])\n",
    "                    \n",
    "                    session_angles[\n",
    "                        repeat_i * n_divs + div_i,\n",
    "                        repeat_j * n_divs + div_j] = angle\n",
    "    \n",
    "    return session_corrs, session_angles"
   ]
  },
  {
   "cell_type": "code",
   "execution_count": null,
   "id": "685f87ed-ef82-483f-ab5c-aee29e27da42",
   "metadata": {},
   "outputs": [
    {
     "data": {
      "image/png": "[encoded data removed]",
      "text/plain": [
       "<Figure size 144x144 with 2 Axes>"
      ]
     },
     "metadata": {
      "needs_background": "light"
     },
     "output_type": "display_data"
    }
   ],
   "source": [
    "fig, ax = plt.subplots(1,1, figsize=(2,2))\n",
    "\n",
    "c_plot = ax.imshow(session_corrs[:5*30, : 5*30], cmap = \"RdBu\", vmin = -1, vmax = 1)\n",
    "c_bar = plt.colorbar(c_plot, ax = ax)\n"
   ]
  },
  {
   "cell_type": "markdown",
   "id": "35212046-bcbf-42cd-8214-c5491fc833fe",
   "metadata": {},
   "source": [
    "### InterSession Correlation Matrix"
   ]
  },
  {
   "cell_type": "code",
   "execution_count": null,
   "id": "b34e5df0-b171-4fbd-8772-7d37c93a92d8",
   "metadata": {
    "tags": []
   },
   "outputs": [],
   "source": [
    "def get_unique_cell_ids(cell_ids_experiment):\n",
    "    \"\"\"\n",
    "    Finds all unique cell_ids. For each unique cell_id, creates a list of \n",
    "    corresponding indexes in datasets\n",
    "    \"\"\"\n",
    "    unique_cell_ids = {}\n",
    "\n",
    "    for cell_ids in cell_ids_experiment:\n",
    "        for cell_idx, cell_id in enumerate(cell_ids):\n",
    "            if cell_id not in unique_cell_ids.keys():\n",
    "                unique_cell_ids[cell_id] = []\n",
    "\n",
    "    # For each cell_id, finds the indexes in all experimental datasets\n",
    "    # (lists index as nan if not in given dataset.\n",
    "    for cell_id in unique_cell_ids.keys():\n",
    "        for cell_ids in cell_ids_experiment:\n",
    "            if cell_id in cell_ids:\n",
    "                # unique_cell_ids[cell_id].append(cell_ids.index(cell_id))\n",
    "                unique_cell_ids[cell_id].append(np.where(cell_ids == cell_id)[0][0])\n",
    "            else:\n",
    "                unique_cell_ids[cell_id].append(np.nan)\n",
    "\n",
    "    return unique_cell_ids\n",
    "\n",
    "def get_shared_cell_idxs(unique_cell_ids, verbose=True):\n",
    "    \"\"\"\n",
    "    Finds all cell_ids shared across the datasets, and then returns a numpy \n",
    "    array which has the idx of said cell_ids in each dataset.\n",
    "    \"\"\"\n",
    "    n_exp = len(unique_cell_ids[list(unique_cell_ids.keys())[0]])\n",
    "\n",
    "    shared_cell_ids = []\n",
    "    for cell_id in unique_cell_ids.keys():\n",
    "        if np.sum(np.isnan(unique_cell_ids[cell_id])) == 0:\n",
    "            shared_cell_ids.append(cell_id)\n",
    "\n",
    "    if verbose:\n",
    "        print('Shared IDs: {}/{}'.format(len(shared_cell_ids), \n",
    "                                        len(unique_cell_ids.keys())))\n",
    "\n",
    "    # Map of shared cell_ids to cell_idxs in both datasets\n",
    "    shared_cell_idxs = np.zeros((n_exp, len(shared_cell_ids)), dtype=np.int64)\n",
    "    for cell_idx, cell_id in enumerate(shared_cell_ids):\n",
    "        shared_cell_idxs[:, cell_idx] = unique_cell_ids[cell_id]\n",
    "\n",
    "    return shared_cell_idxs\n",
    "\n",
    "\n",
    "def correlation_across_sessions(cell_ids_in_container, dff_vals_in_container, data, n_sessions = 3):\n",
    "    \n",
    "    exps = data['exps']\n",
    "    dff_vals_all = data['dff_vals']\n",
    "    cell_ids_all = data['cell_ids']\n",
    "    \n",
    "#     exps_in_container = exps[container_idx * n_sessions : (container_idx + 1) * n_sessions]         \n",
    "#     cell_ids_in_container = cell_ids_all[container_idx * n_sessions : (container_idx + 1) * n_sessions]\n",
    "#     dff_vals_in_container = dff_vals_all[container_idx * n_sessions : (container_idx + 1) * n_sessions]\n",
    "    \n",
    "    avg_dff_vals = []\n",
    "    \n",
    "    # Collect avg dff for all sessions\n",
    "    for dataset in datasets:\n",
    "        dff_vals, _ = get_dff_vals_dataset(dataset)\n",
    "        avg_diff_of_session = np.mean(dff_vals)\n",
    "        avg_dff_vals.append(avg_diff_of_session)\n",
    "    \n",
    "    across_session_corrs = np.zeros((n_sessions*n_divs, n_sessions*n_divs))\n",
    "    across_session_angles = np.zerso((n_sessions*n_divs, n_sessions*n_divs))\n",
    "    \n",
    "    for session_i in range(n_sessions):\n",
    "        for session_j in range(n_sessions):\n",
    "            \n",
    "            corr = np.corrcoef(avg_diff_vals[session_i], avg_diff_vals[session_j])[n_divs: , :n_divs]\n",
    "            \n",
    "            across_session_corrs[\n",
    "                session_i * n_divs : (session_i + 1) * n_divs,\n",
    "                session_j * n_divs : (session_j + 1) * n_divs ] = corr\n",
    "            for div_i in range(n_divs):\n",
    "                for div_j in range(n_divs):\n",
    "                    across_session_angles[\n",
    "                        session_i * n_divs + div_i,\n",
    "                        session_j * n_divs + div_j] = alignment_angle(avg_dff_vals_container[session_i][div_i], avg_dff_vals_container[session_j][div_j]\n",
    "                                      )\n",
    "                        \n",
    "    return across_session_corrs, across_session_angles"
   ]
  },
  {
   "cell_type": "code",
   "execution_count": 29,
   "id": "d513b053-d5c7-4c3d-b0ce-a37c0209eb49",
   "metadata": {},
   "outputs": [
    {
     "name": "stdout",
     "output_type": "stream",
     "text": [
      "Ages:  [109, 102, 98]\n",
      "[2 1 0]\n"
     ]
    }
   ],
   "source": [
    "# for our container 5 from earlier\n",
    "# sort sessions by age\n",
    "session_ages = [exps[idx]['acquisition_age_days'] for idx in exp_idxs]\n",
    "print('Ages: ',session_ages)\n",
    "\n",
    "age_sort_idxs = np.argsort(session_ages)\n",
    "print(age_sort_idxs)\n",
    "sorted_exps = np.sort(\n",
    "for session_idx in range(n_sessions):\n",
    "    new_exp[session_idx] = exps[age_sort_idxs[session_idx]]"
   ]
  },
  {
   "cell_type": "code",
   "execution_count": null,
   "id": "2f16c809-241c-4a0f-8c27-03d562941363",
   "metadata": {},
   "outputs": [],
   "source": []
  },
  {
   "cell_type": "markdown",
   "id": "0462f758-a189-4231-8c08-a78c5cf36603",
   "metadata": {},
   "source": [
    "### PCA Decomposition"
   ]
  },
  {
   "cell_type": "code",
   "execution_count": 12,
   "id": "fd04dbcd-c64a-4146-abfb-d8c24f7dd7b3",
   "metadata": {},
   "outputs": [],
   "source": [
    "def drift_PCA(dff_vals_container, cell_ids_container):\n",
    "    '''\n",
    "    Args\n",
    "    ------\n",
    "    container_idx: int\n",
    "    \n",
    "    Returns\n",
    "    ------\n",
    "    dff_vals_pca1\n",
    "    dff_vals_pca2\n",
    "    '''\n",
    "    \n",
    "    def participation_ratio_vector(C):\n",
    "        ''' participation ratio of a vector of variances '''\n",
    "        return np.sum(C) ** 2 / np.sum(C*C)\n",
    "    \n",
    "    drift_pair_idxs = [[0,1],[1,2][0,2]]\n",
    "    n_drifts = len(drift_pair_idxs)\n",
    "    \n",
    "#     cell_ids_container = cell_ids_experiments[container_idx*n_sessions:(container_idx+1)*n_sessions]\n",
    "#     dff_vals_container = dff_vals_experiments[container_idx*n_sessions:(container_idx+1)*n_sessions]\n",
    "    \n",
    "    unique_cell_ids = get_unique_cell_ids(cell_ids_container)\n",
    "    shared_cell_idxs = get_shared_cell_idxs(unique_cell_ids, verbose=False)\n",
    "    n_shared = shared_cell_idxs[0].shape[0] \n",
    "    \n",
    "    n_pcas = np.mean((n_repeats, n_shared))\n",
    "    \n",
    "    means_session = np.zeros((n_sessions, n_divs, n_shared))\n",
    "    pcas_session = [[] for _ in range(n_sessions)]\n",
    "    \n",
    "    for session_idx in range(n_sessions):\n",
    "        # find the dff vals of a given session for only their shared cells\n",
    "        # then find the mean across the 10 repeats\n",
    "        dff_vals_session = dff_vals_container[session_idx][:, :, shared_cell_idxs[session_idx]]\n",
    "        print(dff_vals_session.shape)\n",
    "        mean_session[session_idx] = np.mean(dff_vals_session, axis = 0)\n",
    "        print(mean_session[session_idx].shape)\n",
    "        \n",
    "        for div_idx in range(n_divs):\n",
    "            pca_div = PCA()\n",
    "            pca_div.fit(dff_vals_session[:, div_idx])\n",
    "            \n",
    "            # Ensure all means (along PC directions) are positive\n",
    "            pca_dir_signs = np.sign(np.mean(np.matmul(dff_vals_session[:, div_idx], pca_div.components_.T), axis=0))\n",
    "            for pca_idx, pca_dir in enumerate(pca_div.components_):\n",
    "                pca_div.components_[pca_idx, :] = pca_dir_signs[pca_idx] * pca_dir        \n",
    "            pcas_session[session_idx].append(pca_div)\n",
    "            \n",
    "            # compute dim_var_space\n",
    "            dim_var_space = participation_ratio_vector(\n",
    "                pca_div.explained_variance_ratio_\n",
    "            )\n",
    "    \n",
    "    drifts_session = np.zeros((n_drifts, n_divs, n_shared))\n",
    "    pca_drift_magnitude = np.zeros((n_drifts, n_divs, n_pcas))\n",
    "    \n",
    "    for drift_idx in range(n_drifts):\n",
    "        session_i = drift_pair_idxs[drift_idx][0]\n",
    "        session_j = drift_pair_idxs[drift_idx][1]\n",
    "        \n",
    "        drifts_session[drift_idx] = (means_session[session_j] - means_session[session_i])\n",
    "        \n",
    "        for div_idx in range(n_divs):\n",
    "            pca_drift = np.matmul(\n",
    "                pcas_session[session_i][div_idx].components_,\n",
    "                drifts_session[drift_idx, div_idx]\n",
    "            )\n",
    "        for pca_idx in range(n_pcas):\n",
    "            pca_drift_magnitude[drift_idx, div_idx, pca_idx] = np.abs(pca_drift[pca_idx])\n",
    "    \n",
    "    pca_scale = 1.5\n",
    "\n",
    "    for class_idx_idx, class_idx in enumerate(class_idxs):\n",
    "        dff_vals_class = dff_vals_session[:, class_idx]\n",
    "        class_pca = pcas_session[drift_pair[0]][class_idx]\n",
    "\n",
    "        dff_vals_pca = np.matmul(dff_vals_class, class0_pca.components_.T)\n",
    "\n",
    "        ax.scatter(dff_vals_pca[:, pc1], dff_vals_pca[:, pc2], marker='.', \n",
    "                   color=c_vals[1+class_idx_idx], alpha=0.5)\n",
    "\n",
    "        class_mean = np.mean(dff_vals_pca, axis=0)\n",
    "\n",
    "        ax.scatter(class_mean[pc1], class_mean[pc2],\n",
    "                   marker='x', color=c_vals[1+class_idx_idx])\n",
    "\n",
    "        pcas_proj =  np.matmul(class_pca.components_, class0_pca.components_.T)\n",
    "\n",
    "        for pc_idx in (pc1, pc2):\n",
    "            pcas_proj[pc_idx] = (pca_scale * class_pca.explained_variance_ratio_[pc_idx] *\n",
    "                                 pcas_proj[pc_idx] / np.linalg.norm(pcas_proj[pc_idx]))\n",
    "            print(class_pca.explained_variance_ratio_[pc_idx])\n",
    "            print('Norm:', np.linalg.norm(pcas_proj[pc_idx]))\n",
    "            ax.plot([class_mean[pc1], class_mean[pc1]+pcas_proj[pc_idx, pc1]],\n",
    "                    [class_mean[pc2], class_mean[pc2]+pcas_proj[pc_idx, pc2]],\n",
    "                    color=c_vals[1+class_idx_idx])\n",
    "    \n",
    "    ax.set_xlim([-1, 2])\n",
    "    ax.set_ylim([-1, 2])\n",
    "    ax.set_xticks([-1, 0, 1, 2])\n",
    "    ax.set_yticks([-1, 0, 1, 2])\n",
    "    ax.set_xticklabels([-1, 0, 1, 2])\n",
    "    ax.set_yticklabels([-1, 0, 1, 2])\n",
    "    ax.set_xlabel('PC1 (Group 1)')\n",
    "    ax.set_ylabel('PC2 (Group 1)')\n",
    "\n",
    "    jetplot.breathe(ax=ax)\n",
    "\n",
    "    \n",
    "    # Second figure, plot two sessions in the first sessions PC components\n",
    "    fig, ax = plt.subplots(1, 1, figsize=(2,2))\n",
    "\n",
    "    class_idx = class_idxs[0]\n",
    "    colors = (c_vals[1], c_vals_l[1])\n",
    "    for session_idx_idx, session_idx in enumerate(drift_pair):\n",
    "\n",
    "        dff_vals_class = dff_vals_container[session_idx][:, class_idx, shared_cell_idxs[session_idx]]\n",
    "        class_pca = pcas_session[session_idx][class_idx]\n",
    "\n",
    "        dff_vals_pca = np.matmul(dff_vals_class, class0_pca.components_.T)\n",
    "\n",
    "        ax.scatter(dff_vals_pca[:, pc1], dff_vals_pca[:, pc2], marker='.', \n",
    "                color=colors[session_idx_idx], alpha=0.5)\n",
    "\n",
    "        class_mean = np.mean(dff_vals_pca, axis=0)\n",
    "\n",
    "        ax.scatter(class_mean[pc1], class_mean[pc2],\n",
    "                   marker='x', color=colors[session_idx_idx])\n",
    "\n",
    "        pcas_proj =  np.matmul(class_pca.components_, class0_pca.components_.T)\n",
    "\n",
    "        for pc_idx in (pc1, pc2):\n",
    "            pcas_proj[pc_idx] = (pca_scale * class_pca.explained_variance_ratio_[pc_idx] *\n",
    "                                 pcas_proj[pc_idx] / np.linalg.norm(pcas_proj[pc_idx]))\n",
    "            print(class_pca.explained_variance_ratio_[pc_idx])\n",
    "            print('Norm:', np.linalg.norm(pcas_proj[pc_idx]))\n",
    "            ax.plot([class_mean[pc1], class_mean[pc1]+pcas_proj[pc_idx, pc1]],\n",
    "                    [class_mean[pc2], class_mean[pc2]+pcas_proj[pc_idx, pc2]],\n",
    "                    color=colors[session_idx_idx])\n",
    "\n",
    "\n",
    "    ax.set_xlim([-1, 2])\n",
    "    ax.set_ylim([-1, 2])\n",
    "    ax.set_xticks([-1, 0, 1, 2])\n",
    "    ax.set_yticks([-1, 0, 1, 2])\n",
    "    ax.set_xticklabels([-1, 0, 1, 2])\n",
    "    ax.set_yticklabels([-1, 0, 1, 2])\n",
    "    ax.set_xlabel('PC1 (Group 1)')\n",
    "    ax.set_ylabel('PC2 (Group 1)')\n",
    "\n",
    "\n",
    "    jetplot.breathe(ax=ax)"
   ]
  },
  {
   "cell_type": "code",
   "execution_count": null,
   "id": "bdd314f9-c4e4-43d2-9965-0002a538eb4b",
   "metadata": {},
   "outputs": [],
   "source": []
  }
 ],
 "metadata": {
  "kernelspec": {
   "display_name": "Python 3 (ipykernel)",
   "language": "python",
   "name": "python3"
  },
  "language_info": {
   "codemirror_mode": {
    "name": "ipython",
    "version": 3
   },
   "file_extension": ".py",
   "mimetype": "text/x-python",
   "name": "python",
   "nbconvert_exporter": "python",
   "pygments_lexer": "ipython3",
   "version": "3.7.13"
  }
 },
 "nbformat": 4,
 "nbformat_minor": 5
}
